{
 "cells": [
  {
   "cell_type": "code",
   "execution_count": 65,
   "metadata": {
    "collapsed": true
   },
   "outputs": [],
   "source": [
    "\n",
    "import numpy as np\n",
    "\n",
    "\n",
    "from sklearn.naive_bayes import GaussianNB\n",
    "from sklearn import svm\n",
    "from sklearn import linear_model\n",
    "from sklearn.ensemble import RandomForestClassifier\n",
    "\n",
    "import pandas as pd\n",
    "\n",
    "from sklearn.tree import DecisionTreeClassifier\n",
    "from sklearn.linear_model import LogisticRegression\n",
    "\n",
    "from sklearn.ensemble import RandomForestClassifier\n"
   ]
  },
  {
   "cell_type": "code",
   "execution_count": 66,
   "metadata": {},
   "outputs": [
    {
     "name": "stdout",
     "output_type": "stream",
     "text": [
      "60\t65\t23\t10\t0\t5\t0\t36\t0\t1\t11\t0\n"
     ]
    }
   ],
   "source": [
    "f1=open(\"/home/divya/Downloads/BE PROJECT/train_test/malaria_train.txt\",'r')\n",
    "text=f1.read()\n",
    "#print(text)\n",
    "f2=open(\"/home/divya/Downloads/BE PROJECT/train_test/malaria_test.txt\",'r')\n",
    "text2=f2.read()\n",
    "print(text2)"
   ]
  },
  {
   "cell_type": "code",
   "execution_count": 67,
   "metadata": {
    "collapsed": true
   },
   "outputs": [],
   "source": [
    "x= text.split('\\n')\n",
    "\n",
    "features=[]\n",
    "labels=[]\n",
    "\n",
    "for a in x:\n",
    "    b=a.split('\\t')\n",
    "    v=[]\n",
    "    lbl=''\n",
    "    for i in range(0,len(b)-1):\n",
    "        if(b[i] == '?'):\n",
    "            v.append(9999)\n",
    "             \n",
    "        else:\n",
    "             v.append((int(b[i])))\n",
    "           \n",
    "           \n",
    "\n",
    "    labels.append(b[len(b)-1])\n",
    "    features.append(v)\n",
    "    \n",
    "\n",
    "x= text2.split('\\n')\n",
    "\n",
    "features_t=[]\n",
    "labels_t=[]\n",
    "                     \n",
    "for a in x:\n",
    "    b=a.split('\\t')\n",
    "    v=[]\n",
    "    lbl=''\n",
    "    for i in range(0,len(b)-1):\n",
    "        if(b[i] == '?'):\n",
    "            v.append(9999)\n",
    "             \n",
    "        else:\n",
    "             v.append((int(b[i])))\n",
    "           \n",
    "           \n",
    "\n",
    "    labels_t.append(b[len(b)-1])\n",
    "    features_t.append(v)\n",
    "         \n"
   ]
  },
  {
   "cell_type": "markdown",
   "metadata": {},
   "source": [
    "# Input Symptoms"
   ]
  },
  {
   "cell_type": "code",
   "execution_count": 68,
   "metadata": {
    "scrolled": true
   },
   "outputs": [
    {
     "name": "stdout",
     "output_type": "stream",
     "text": [
      "[[60, 65, 23, 10, 0, 5, 0, 36, 0, 1, 11]]\n"
     ]
    }
   ],
   "source": [
    "print(features_t)\n"
   ]
  },
  {
   "cell_type": "markdown",
   "metadata": {},
   "source": [
    "# LogisticRegression"
   ]
  },
  {
   "cell_type": "code",
   "execution_count": 69,
   "metadata": {},
   "outputs": [
    {
     "name": "stdout",
     "output_type": "stream",
     "text": [
      "0\r\n"
     ]
    }
   ],
   "source": [
    "model=LogisticRegression()\n",
    "model.fit(features,labels)#fitting parameters\n",
    "y_pred=model.predict(features_t)\n",
    "print(y_pred[0])\n",
    "x1= y_pred[0]\n"
   ]
  },
  {
   "cell_type": "markdown",
   "metadata": {},
   "source": [
    "# Naive Bayes Classifier"
   ]
  },
  {
   "cell_type": "code",
   "execution_count": 70,
   "metadata": {
    "scrolled": true
   },
   "outputs": [
    {
     "name": "stdout",
     "output_type": "stream",
     "text": [
      "0\r\n"
     ]
    }
   ],
   "source": [
    "model=GaussianNB()\n",
    "model.fit(features,labels)#fitting parameters\n",
    "y_pred=model.predict(features_t)\n",
    "print(y_pred[0])\n",
    "x2= y_pred[0]\n"
   ]
  },
  {
   "cell_type": "markdown",
   "metadata": {},
   "source": [
    "# SVM Classifier"
   ]
  },
  {
   "cell_type": "code",
   "execution_count": 71,
   "metadata": {},
   "outputs": [
    {
     "name": "stdout",
     "output_type": "stream",
     "text": [
      "1\r\n"
     ]
    }
   ],
   "source": [
    "model=svm.SVC()\n",
    "model.fit(features,labels)#fitting parameters\n",
    "y_pred=model.predict(features_t)\n",
    "print(y_pred[0])\n",
    "x3= y_pred[0]\n"
   ]
  },
  {
   "cell_type": "markdown",
   "metadata": {},
   "source": [
    "# KNeighbors Classifier"
   ]
  },
  {
   "cell_type": "code",
   "execution_count": 72,
   "metadata": {},
   "outputs": [
    {
     "name": "stdout",
     "output_type": "stream",
     "text": [
      "0\r\n"
     ]
    }
   ],
   "source": [
    "from sklearn.neighbors import KNeighborsClassifier\n",
    "\n",
    "neigh = KNeighborsClassifier(n_neighbors=3)\n",
    "neigh.fit(features,labels)\n",
    "\n",
    "pred2=neigh.predict(features_t)\n",
    "print(pred2[0])\n",
    "x4= pred2[0]\n"
   ]
  },
  {
   "cell_type": "markdown",
   "metadata": {},
   "source": [
    "# Decision Tree Classifier"
   ]
  },
  {
   "cell_type": "code",
   "execution_count": 73,
   "metadata": {},
   "outputs": [
    {
     "name": "stdout",
     "output_type": "stream",
     "text": [
      "1\r\n"
     ]
    }
   ],
   "source": [
    "from sklearn.tree import DecisionTreeClassifier\n",
    "\n",
    "clf = DecisionTreeClassifier(random_state=0)\n",
    "clf =clf.fit(features,labels)\n",
    "\n",
    "pred3=clf.predict(features_t)\n",
    "print(pred3[0])\n",
    "x5=pred3[0]"
   ]
  },
  {
   "cell_type": "markdown",
   "metadata": {},
   "source": [
    "# Random Forest Classifier"
   ]
  },
  {
   "cell_type": "code",
   "execution_count": 74,
   "metadata": {},
   "outputs": [
    {
     "name": "stdout",
     "output_type": "stream",
     "text": [
      "0\r\n"
     ]
    }
   ],
   "source": [
    "model=RandomForestClassifier()\n",
    "model.fit(features,labels)\n",
    "y_pred=model.predict(features_t)\n",
    "print(y_pred[0])\n",
    "x6=y_pred[0]"
   ]
  },
  {
   "cell_type": "code",
   "execution_count": 75,
   "metadata": {},
   "outputs": [
    {
     "name": "stdout",
     "output_type": "stream",
     "text": [
      "0\r",
      "0\r",
      "0\r",
      "0\r",
      "1\r",
      "0\r\n"
     ]
    }
   ],
   "source": [
    "p= (y_pred[0]+y_pred[0]+y_pred[0]+pred2[0]+pred3[0]+y_pred[0] )\n",
    "print(p)"
   ]
  },
  {
   "cell_type": "code",
   "execution_count": null,
   "metadata": {
    "collapsed": true
   },
   "outputs": [],
   "source": []
  },
  {
   "cell_type": "code",
   "execution_count": null,
   "metadata": {
    "collapsed": true
   },
   "outputs": [],
   "source": []
  },
  {
   "cell_type": "code",
   "execution_count": null,
   "metadata": {
    "collapsed": true
   },
   "outputs": [],
   "source": []
  },
  {
   "cell_type": "code",
   "execution_count": null,
   "metadata": {
    "collapsed": true
   },
   "outputs": [],
   "source": []
  }
 ],
 "metadata": {
  "anaconda-cloud": {},
  "kernelspec": {
   "display_name": "Python [conda env:anaconda2]",
   "language": "python",
   "name": "conda-env-anaconda2-py"
  },
  "language_info": {
   "codemirror_mode": {
    "name": "ipython",
    "version": 2
   },
   "file_extension": ".py",
   "mimetype": "text/x-python",
   "name": "python",
   "nbconvert_exporter": "python",
   "pygments_lexer": "ipython2",
   "version": "2.7.15"
  }
 },
 "nbformat": 4,
 "nbformat_minor": 1
}
