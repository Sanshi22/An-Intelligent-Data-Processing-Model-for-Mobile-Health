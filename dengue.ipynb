{
 "cells": [
  {
   "cell_type": "code",
   "execution_count": 41,
   "metadata": {},
   "outputs": [],
   "source": [
    "\n",
    "import numpy as np\n",
    "\n",
    "from sklearn.naive_bayes import GaussianNB\n",
    "from sklearn import svm\n",
    "from sklearn import linear_model\n",
    "from sklearn.ensemble import RandomForestClassifier\n",
    "\n",
    "import pandas as pd\n",
    "from sklearn.tree import DecisionTreeClassifier\n",
    "from sklearn.linear_model import LogisticRegression\n",
    "from sklearn.ensemble import RandomForestClassifier\n",
    "\n"
   ]
  },
  {
   "cell_type": "code",
   "execution_count": 42,
   "metadata": {},
   "outputs": [
    {
     "name": "stdout",
     "output_type": "stream",
     "text": [
      "72\t29\t27\t49\t25\t32\t5\t10\t9\t0\t1\n"
     ]
    }
   ],
   "source": [
    "f1=open(\"C:/Users/acer/Desktop/BE PROJECT/train_test/dengue_train.txt\",'r')#f1 is a file object\n",
    "text=f1.read()#reading using file object\n",
    "#print(text)\n",
    "f2=open(\"C:/Users/acer/Desktop/BE PROJECT/train_test/dengue_test.txt\",'r')\n",
    "text2=f2.read()\n",
    "print(text2)"
   ]
  },
  {
   "cell_type": "code",
   "execution_count": 43,
   "metadata": {},
   "outputs": [],
   "source": [
    "x= text.split('\\n')#converts a string into a list separated by commas\n",
    "#print(x)\n",
    "\n",
    "features=[]\n",
    "labels=[]\n",
    "\n",
    "for a in x: #for each list item separated by comma in x\n",
    "\n",
    "    b=a.split('\\t')\n",
    "    #print(b)\n",
    "    v=[]\n",
    "    lbl=''\n",
    "    for i in range(0,len(b)-1): #range=[) and len-1 is to leave the label\n",
    "        if(b[i] == '?'):\n",
    "            v.append(9999)\n",
    "             \n",
    "        else:\n",
    "            v.append((float(b[i])))#adds its argument as a single element to the end of the list increasing the len by just 1 evertime\n",
    "           \n",
    "           \n",
    "\n",
    "        labels.append(b[len(b)-1])\n",
    "        features.append(v)\n",
    "#print(features)\n",
    "#print(labels)\n",
    "    \n",
    "\n",
    "x1= text2.split('\\n')\n",
    "#print(x1)\n",
    "\n",
    "features_t=[]\n",
    "labels_t=[]\n",
    "#print('loop')                   \n",
    "for a in x1:\n",
    "    #print(a)\n",
    "    b=a.split('\\t')\n",
    "    v=[]\n",
    "    lbl=''\n",
    "    for i in range(0,len(b)-1):\n",
    "        if(b[i] == '?'):\n",
    "            v.append(9999)\n",
    "             \n",
    "        else:\n",
    "             v.append((int(b[i]))) \n",
    "           \n",
    "           \n",
    "\n",
    "    labels_t.append(b[len(b)-1])\n",
    "    features_t.append(v)                     \n"
   ]
  },
  {
   "cell_type": "markdown",
   "metadata": {},
   "source": [
    "### Input Symptoms"
   ]
  },
  {
   "cell_type": "code",
   "execution_count": 44,
   "metadata": {},
   "outputs": [
    {
     "name": "stdout",
     "output_type": "stream",
     "text": [
      "[[72, 29, 27, 49, 25, 32, 5, 10, 9, 0]]\n"
     ]
    }
   ],
   "source": [
    "print(features_t)"
   ]
  },
  {
   "cell_type": "markdown",
   "metadata": {},
   "source": [
    "# LogisticRegression"
   ]
  },
  {
   "cell_type": "code",
   "execution_count": 45,
   "metadata": {},
   "outputs": [
    {
     "name": "stdout",
     "output_type": "stream",
     "text": [
      "['1']\n"
     ]
    }
   ],
   "source": [
    "model=LogisticRegression()\n",
    "model.fit(features,labels)#fitting parameters\n",
    "y_pred=model.predict(features_t)\n",
    "print(y_pred)\n"
   ]
  },
  {
   "cell_type": "markdown",
   "metadata": {},
   "source": [
    "# Naive Bayes Classifier"
   ]
  },
  {
   "cell_type": "code",
   "execution_count": 46,
   "metadata": {
    "scrolled": true
   },
   "outputs": [
    {
     "name": "stdout",
     "output_type": "stream",
     "text": [
      "['1']\n"
     ]
    }
   ],
   "source": [
    "model=GaussianNB()\n",
    "model.fit(features,labels)#fitting parameters\n",
    "y_pred=model.predict(features_t)\n",
    "print(y_pred)"
   ]
  },
  {
   "cell_type": "markdown",
   "metadata": {},
   "source": [
    "# SVM Classifier"
   ]
  },
  {
   "cell_type": "code",
   "execution_count": 47,
   "metadata": {},
   "outputs": [
    {
     "name": "stdout",
     "output_type": "stream",
     "text": [
      "['1']\n"
     ]
    }
   ],
   "source": [
    "model=svm.SVC()\n",
    "model.fit(features,labels)#fitting parameters\n",
    "y_pred=model.predict(features_t)\n",
    "print(y_pred)"
   ]
  },
  {
   "cell_type": "markdown",
   "metadata": {},
   "source": [
    "# KNeighbors Classifier"
   ]
  },
  {
   "cell_type": "code",
   "execution_count": 48,
   "metadata": {},
   "outputs": [
    {
     "name": "stdout",
     "output_type": "stream",
     "text": [
      "['0']\n"
     ]
    }
   ],
   "source": [
    "from sklearn.neighbors import KNeighborsClassifier\n",
    "\n",
    "neigh = KNeighborsClassifier(n_neighbors=3)\n",
    "neigh.fit(features,labels)\n",
    "\n",
    "pred2=neigh.predict(features_t)\n",
    "print(pred2)"
   ]
  },
  {
   "cell_type": "markdown",
   "metadata": {},
   "source": [
    "# Decision Tree Classifier"
   ]
  },
  {
   "cell_type": "code",
   "execution_count": 49,
   "metadata": {},
   "outputs": [
    {
     "name": "stdout",
     "output_type": "stream",
     "text": [
      "['1']\n"
     ]
    }
   ],
   "source": [
    "from sklearn.tree import DecisionTreeClassifier\n",
    "\n",
    "clf = DecisionTreeClassifier(random_state=0)\n",
    "clf =clf.fit(features,labels)\n",
    "\n",
    "pred3=clf.predict(features_t)\n",
    "print(pred3)"
   ]
  },
  {
   "cell_type": "markdown",
   "metadata": {},
   "source": [
    "# Random Forest Classifier"
   ]
  },
  {
   "cell_type": "code",
   "execution_count": 50,
   "metadata": {},
   "outputs": [
    {
     "name": "stdout",
     "output_type": "stream",
     "text": [
      "['1']\n"
     ]
    }
   ],
   "source": [
    "model=RandomForestClassifier()\n",
    "model.fit(features,labels)\n",
    "y_pred=model.predict(features_t)\n",
    "print(y_pred)"
   ]
  },
  {
   "cell_type": "code",
   "execution_count": null,
   "metadata": {},
   "outputs": [],
   "source": []
  },
  {
   "cell_type": "code",
   "execution_count": null,
   "metadata": {},
   "outputs": [],
   "source": []
  },
  {
   "cell_type": "code",
   "execution_count": null,
   "metadata": {
    "collapsed": true
   },
   "outputs": [],
   "source": []
  },
  {
   "cell_type": "code",
   "execution_count": null,
   "metadata": {
    "collapsed": true
   },
   "outputs": [],
   "source": []
  },
  {
   "cell_type": "code",
   "execution_count": null,
   "metadata": {
    "collapsed": true
   },
   "outputs": [],
   "source": []
  }
 ],
 "metadata": {
  "anaconda-cloud": {},
  "kernelspec": {
   "display_name": "Python 3",
   "language": "python",
   "name": "python3"
  },
  "language_info": {
   "codemirror_mode": {
    "name": "ipython",
    "version": 3
   },
   "file_extension": ".py",
   "mimetype": "text/x-python",
   "name": "python",
   "nbconvert_exporter": "python",
   "pygments_lexer": "ipython3",
   "version": "3.7.0"
  }
 },
 "nbformat": 4,
 "nbformat_minor": 1
}
