{
 "cells": [
  {
   "cell_type": "code",
   "execution_count": 46,
   "metadata": {},
   "outputs": [],
   "source": [
    "\n",
    "import numpy as np\n",
    "\n",
    "\n",
    "from sklearn.naive_bayes import GaussianNB\n",
    "from sklearn import svm\n",
    "from sklearn import linear_model\n",
    "from sklearn.ensemble import RandomForestClassifier\n",
    "\n",
    "import pandas as pd\n",
    "\n",
    "from sklearn.tree import DecisionTreeClassifier\n",
    "from sklearn.linear_model import LogisticRegression\n",
    "\n",
    "\n",
    "from sklearn.ensemble import RandomForestClassifier\n",
    "\n",
    "\n"
   ]
  },
  {
   "cell_type": "code",
   "execution_count": 47,
   "metadata": {},
   "outputs": [],
   "source": [
    "\n",
    "f1=open(\"C:/Users/acer/Desktop/BE PROJECT/train_test/pneumonia_train.txt\",'r')\n",
    "text=f1.read()\n",
    "\n",
    "f2=open(\"C:/Users/acer/Desktop/BE PROJECT/train_test/pneumonia_test.txt\",'r')\n",
    "text2=f2.read()"
   ]
  },
  {
   "cell_type": "code",
   "execution_count": 48,
   "metadata": {},
   "outputs": [],
   "source": [
    "x= text.split('\\n')\n",
    "\n",
    "features=[]\n",
    "labels=[]\n",
    "\n",
    "for a in x:\n",
    "    b=a.split('\\t')\n",
    "    v=[]\n",
    "    lbl=''\n",
    "    for i in range(0,len(b)-1):\n",
    "        if(b[i] == '?'):\n",
    "            v.append(9999)\n",
    "             \n",
    "        else:\n",
    "             v.append((float(b[i])))\n",
    "           \n",
    "           \n",
    "\n",
    "        labels.append(b[len(b)-1])\n",
    "        features.append(v)\n",
    "    \n",
    "\n",
    "x= text2.split('\\n')\n",
    "\n",
    "features_t=[]\n",
    "labels_t=[]\n",
    "                     \n",
    "for a in x:\n",
    "    b=a.split('\\t')\n",
    "    v=[]\n",
    "    lbl=''\n",
    "    for i in range(0,len(b)-1):\n",
    "        if(b[i] == '?'):\n",
    "            v.append(9999)\n",
    "             \n",
    "        else:\n",
    "             v.append((int(b[i])))\n",
    "           \n",
    "           \n",
    "\n",
    "    labels_t.append(b[len(b)-1])\n",
    "    features_t.append(v)                     \n"
   ]
  },
  {
   "cell_type": "markdown",
   "metadata": {},
   "source": [
    "# Input Symptoms"
   ]
  },
  {
   "cell_type": "code",
   "execution_count": 49,
   "metadata": {},
   "outputs": [
    {
     "name": "stdout",
     "output_type": "stream",
     "text": [
      "[[17, 59, 98, 29, 60, 96, 0, 58, 0, 29, 73, 51, 30]]\n"
     ]
    }
   ],
   "source": [
    "print(features_t)"
   ]
  },
  {
   "cell_type": "markdown",
   "metadata": {},
   "source": [
    "# LogisticRegression"
   ]
  },
  {
   "cell_type": "code",
   "execution_count": 50,
   "metadata": {},
   "outputs": [
    {
     "name": "stdout",
     "output_type": "stream",
     "text": [
      "0\n"
     ]
    }
   ],
   "source": [
    "model=LogisticRegression()\n",
    "model.fit(features,labels)#fitting parameters\n",
    "y_pred=model.predict(features_t)\n",
    "print(y_pred[0])\n"
   ]
  },
  {
   "cell_type": "markdown",
   "metadata": {},
   "source": [
    "# Naive Bayes Classifier"
   ]
  },
  {
   "cell_type": "code",
   "execution_count": 51,
   "metadata": {
    "scrolled": true
   },
   "outputs": [
    {
     "name": "stdout",
     "output_type": "stream",
     "text": [
      "0\n"
     ]
    }
   ],
   "source": [
    "model=GaussianNB()\n",
    "model.fit(features,labels)#fitting parameters\n",
    "y_pred=model.predict(features_t)\n",
    "print(y_pred[0])\n"
   ]
  },
  {
   "cell_type": "markdown",
   "metadata": {},
   "source": [
    "# SVM Classifier"
   ]
  },
  {
   "cell_type": "code",
   "execution_count": 52,
   "metadata": {},
   "outputs": [
    {
     "name": "stdout",
     "output_type": "stream",
     "text": [
      "1\n"
     ]
    }
   ],
   "source": [
    "model=svm.SVC()\n",
    "model.fit(features,labels)#fitting parameters\n",
    "y_pred=model.predict(features_t)\n",
    "print(y_pred[0])\n"
   ]
  },
  {
   "cell_type": "markdown",
   "metadata": {},
   "source": [
    "# KNeighbors Classifier"
   ]
  },
  {
   "cell_type": "code",
   "execution_count": 43,
   "metadata": {},
   "outputs": [
    {
     "name": "stdout",
     "output_type": "stream",
     "text": [
      "1\n"
     ]
    }
   ],
   "source": [
    "from sklearn.neighbors import KNeighborsClassifier\n",
    "\n",
    "neigh = KNeighborsClassifier(n_neighbors=3)\n",
    "neigh.fit(features,labels)\n",
    "pred2=neigh.predict(features_t)\n",
    "print(pred2[0])\n"
   ]
  },
  {
   "cell_type": "markdown",
   "metadata": {},
   "source": [
    "# Decision Tree Classifier"
   ]
  },
  {
   "cell_type": "code",
   "execution_count": 44,
   "metadata": {},
   "outputs": [
    {
     "name": "stdout",
     "output_type": "stream",
     "text": [
      "1\n"
     ]
    }
   ],
   "source": [
    "from sklearn.tree import DecisionTreeClassifier\n",
    "\n",
    "clf = DecisionTreeClassifier(random_state=0)\n",
    "clf =clf.fit(features,labels)\n",
    "pred3=clf.predict(features_t)\n",
    "print(pred3[0])\n"
   ]
  },
  {
   "cell_type": "markdown",
   "metadata": {},
   "source": [
    "# Random Forest Techinique"
   ]
  },
  {
   "cell_type": "code",
   "execution_count": 45,
   "metadata": {},
   "outputs": [
    {
     "name": "stdout",
     "output_type": "stream",
     "text": [
      "1\n"
     ]
    }
   ],
   "source": [
    "model=RandomForestClassifier()\n",
    "model.fit(features,labels)\n",
    "y_pred=model.predict(features_t)\n",
    "print(y_pred[0])\n"
   ]
  },
  {
   "cell_type": "code",
   "execution_count": null,
   "metadata": {},
   "outputs": [],
   "source": []
  },
  {
   "cell_type": "code",
   "execution_count": null,
   "metadata": {},
   "outputs": [],
   "source": []
  },
  {
   "cell_type": "code",
   "execution_count": null,
   "metadata": {},
   "outputs": [],
   "source": []
  }
 ],
 "metadata": {
  "anaconda-cloud": {},
  "kernelspec": {
   "display_name": "Python 3",
   "language": "python",
   "name": "python3"
  },
  "language_info": {
   "codemirror_mode": {
    "name": "ipython",
    "version": 3
   },
   "file_extension": ".py",
   "mimetype": "text/x-python",
   "name": "python",
   "nbconvert_exporter": "python",
   "pygments_lexer": "ipython3",
   "version": "3.7.0"
  }
 },
 "nbformat": 4,
 "nbformat_minor": 1
}
