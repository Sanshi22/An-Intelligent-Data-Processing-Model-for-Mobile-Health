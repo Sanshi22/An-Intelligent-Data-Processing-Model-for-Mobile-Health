{
 "cells": [
  {
   "cell_type": "code",
   "execution_count": 1,
   "metadata": {},
   "outputs": [],
   "source": [
    "\n",
    "import numpy as np\n",
    "\n",
    "\n",
    "from sklearn.naive_bayes import GaussianNB\n",
    "from sklearn import svm\n",
    "from sklearn import linear_model\n",
    "from sklearn.ensemble import RandomForestClassifier\n",
    "\n",
    "import pandas as pd\n",
    "\n",
    "from sklearn.tree import DecisionTreeClassifier\n",
    "from sklearn.linear_model import LogisticRegression\n",
    "\n",
    "\n",
    "from sklearn.ensemble import RandomForestClassifier\n",
    "\n",
    "import matplotlib.pyplot as plt \n"
   ]
  },
  {
   "cell_type": "code",
   "execution_count": 2,
   "metadata": {},
   "outputs": [],
   "source": [
    "\n",
    "f1=open(\"/home/divya/Downloads/BE PROJECT/train_test/asthma_train.txt\",'r')\n",
    "text=f1.read()\n",
    "\n",
    "f2=open(\"/home/divya/Downloads/BE PROJECT/train_test/asthma_test.txt\",'r')\n",
    "text2=f2.read()"
   ]
  },
  {
   "cell_type": "code",
   "execution_count": 3,
   "metadata": {
    "collapsed": true
   },
   "outputs": [],
   "source": [
    "x= text.split('\\n')\n",
    "\n",
    "features=[]\n",
    "labels=[]\n",
    "\n",
    "for a in x:\n",
    "    b=a.split('\\t')\n",
    "    v=[]\n",
    "    lbl=''\n",
    "    for i in range(0,len(b)-1):\n",
    "        if(b[i] == '?'):\n",
    "            v.append(9999)\n",
    "             \n",
    "        else:\n",
    "             v.append((float(b[i])))\n",
    "           \n",
    "           \n",
    "\n",
    "        labels.append(b[len(b)-1])\n",
    "        features.append(v)\n",
    "    \n",
    "\n",
    "x= text2.split('\\n')\n",
    "\n",
    "features_t=[]\n",
    "labels_t=[]\n",
    "                     \n",
    "for a in x:\n",
    "    b=a.split('\\t')\n",
    "    v=[]\n",
    "    lbl=''\n",
    "    for i in range(0,len(b)-1):\n",
    "        if(b[i] == '?'):\n",
    "            v.append(9999)\n",
    "             \n",
    "        else:\n",
    "             v.append((int(b[i])))\n",
    "           \n",
    "           \n",
    "\n",
    "    labels_t.append(b[len(b)-1])\n",
    "    features_t.append(v)                     \n"
   ]
  },
  {
   "cell_type": "markdown",
   "metadata": {},
   "source": [
    "# Input Symptoms"
   ]
  },
  {
   "cell_type": "code",
   "execution_count": 4,
   "metadata": {},
   "outputs": [
    {
     "name": "stdout",
     "output_type": "stream",
     "text": [
      "[[60, 65, 23, 10, 0, 5, 0, 36, 0, 1, 11]]\n"
     ]
    }
   ],
   "source": [
    "print(features_t)"
   ]
  },
  {
   "cell_type": "markdown",
   "metadata": {},
   "source": [
    "# LogisticRegression"
   ]
  },
  {
   "cell_type": "code",
   "execution_count": 5,
   "metadata": {},
   "outputs": [
    {
     "name": "stdout",
     "output_type": "stream",
     "text": [
      "0\r\n"
     ]
    }
   ],
   "source": [
    "model=LogisticRegression()\n",
    "model.fit(features,labels)#fitting parameters\n",
    "y_pred1=model.predict(features_t)\n",
    "print(y_pred1[0])\n",
    "x1 = (int)(y_pred1[0])"
   ]
  },
  {
   "cell_type": "markdown",
   "metadata": {},
   "source": [
    "# Naive Bayes Classifier"
   ]
  },
  {
   "cell_type": "code",
   "execution_count": 6,
   "metadata": {
    "scrolled": true
   },
   "outputs": [
    {
     "name": "stdout",
     "output_type": "stream",
     "text": [
      "0\r\n"
     ]
    }
   ],
   "source": [
    "model=GaussianNB()\n",
    "model.fit(features,labels)#fitting parameters\n",
    "y_pred2=model.predict(features_t)\n",
    "print(y_pred2[0])\n",
    "x2 = (int)(y_pred2[0])"
   ]
  },
  {
   "cell_type": "markdown",
   "metadata": {},
   "source": [
    "# SVM Classifier"
   ]
  },
  {
   "cell_type": "code",
   "execution_count": 7,
   "metadata": {},
   "outputs": [
    {
     "name": "stdout",
     "output_type": "stream",
     "text": [
      "1\r\n"
     ]
    }
   ],
   "source": [
    "model=svm.SVC()\n",
    "model.fit(features,labels)#fitting parameters\n",
    "y_pred3=model.predict(features_t)\n",
    "print(y_pred3[0])\n",
    "x3 = (int)(y_pred3[0])"
   ]
  },
  {
   "cell_type": "markdown",
   "metadata": {},
   "source": [
    "# KNeighbors Classifier"
   ]
  },
  {
   "cell_type": "code",
   "execution_count": 8,
   "metadata": {},
   "outputs": [
    {
     "name": "stdout",
     "output_type": "stream",
     "text": [
      "0\r\n"
     ]
    }
   ],
   "source": [
    "from sklearn.neighbors import KNeighborsClassifier\n",
    "\n",
    "neigh = KNeighborsClassifier(n_neighbors=3)\n",
    "neigh.fit(features,labels)\n",
    "pred4=neigh.predict(features_t)\n",
    "print(pred4[0])\n",
    "x4 = (int)(pred4[0])"
   ]
  },
  {
   "cell_type": "markdown",
   "metadata": {},
   "source": [
    "# Decision Tree Classifier"
   ]
  },
  {
   "cell_type": "code",
   "execution_count": 9,
   "metadata": {},
   "outputs": [
    {
     "name": "stdout",
     "output_type": "stream",
     "text": [
      "1\r\n"
     ]
    }
   ],
   "source": [
    "from sklearn.tree import DecisionTreeClassifier\n",
    "\n",
    "clf = DecisionTreeClassifier(random_state=0)\n",
    "clf =clf.fit(features,labels)\n",
    "pred5=clf.predict(features_t)\n",
    "print(pred5[0])\n",
    "x5 = (int)(pred5[0])"
   ]
  },
  {
   "cell_type": "markdown",
   "metadata": {},
   "source": [
    "# Random Forest Techinique"
   ]
  },
  {
   "cell_type": "code",
   "execution_count": 10,
   "metadata": {},
   "outputs": [
    {
     "name": "stdout",
     "output_type": "stream",
     "text": [
      "1\r\n"
     ]
    }
   ],
   "source": [
    "model=RandomForestClassifier()\n",
    "model.fit(features,labels)\n",
    "y_pred6=model.predict(features_t)\n",
    "print(y_pred6[0])\n",
    "x6 = (int)(y_pred6[0])"
   ]
  },
  {
   "cell_type": "code",
   "execution_count": 11,
   "metadata": {},
   "outputs": [
    {
     "name": "stdout",
     "output_type": "stream",
     "text": [
      "50.0\n"
     ]
    }
   ],
   "source": [
    "p= (float)(((x1 + x2 + x3 + x4 + x5 + x6  )*100)/6 )\n",
    "print(p)"
   ]
  },
  {
   "cell_type": "code",
   "execution_count": 12,
   "metadata": {},
   "outputs": [
    {
     "data": {
      "image/png": "[encoded data removed]",
      "text/plain": [
       "<Figure size 432x288 with 1 Axes>"
      ]
     },
     "metadata": {},
     "output_type": "display_data"
    }
   ],
   "source": [
    "xa = [\"LR\" , \"N Bayes\" ,\"SVM \" ,\"KNN\" ,\"D Tree\" ,\"R Forest\"]\n",
    "ya= [x1 , x2 , x3 , x4 , x5 ,x6 ]\n",
    " \n",
    "plt.plot(xa , ya)\n",
    "\n",
    "plt.xlabel('ML ALGORITHMS ') \n",
    "# naming the y axis \n",
    "plt.ylabel('PREDICTED VALUE ') \n",
    "  \n",
    "# giving a title to my graph \n",
    "plt.title('VISUALISATION OF RESULT ') \n",
    "plt.savefig('my_plot2.png')\n",
    "plt.show()\n",
    "\n"
   ]
  },
  {
   "cell_type": "code",
   "execution_count": null,
   "metadata": {
    "collapsed": true
   },
   "outputs": [],
   "source": []
  },
  {
   "cell_type": "code",
   "execution_count": null,
   "metadata": {
    "collapsed": true
   },
   "outputs": [],
   "source": []
  }
 ],
 "metadata": {
  "anaconda-cloud": {},
  "kernelspec": {
   "display_name": "Python [conda env:anaconda2]",
   "language": "python",
   "name": "conda-env-anaconda2-py"
  },
  "language_info": {
   "codemirror_mode": {
    "name": "ipython",
    "version": 2
   },
   "file_extension": ".py",
   "mimetype": "text/x-python",
   "name": "python",
   "nbconvert_exporter": "python",
   "pygments_lexer": "ipython2",
   "version": "2.7.15"
  }
 },
 "nbformat": 4,
 "nbformat_minor": 1
}
